{
 "cells": [
  {
   "cell_type": "code",
   "execution_count": 1,
   "metadata": {},
   "outputs": [],
   "source": [
    "import numpy as np\n",
    "import pandas as pd\n",
    "import seaborn as sns\n",
    "import matplotlib.pyplot as plt\n",
    "from sklearn import metrics as sm\n",
    "from sklearn.decomposition import PCA\n",
    "from sklearn.model_selection import train_test_split\n",
    "from sklearn.metrics import mean_squared_error, r2_score\n",
    "import seaborn as sns\n",
    "import statsmodels.formula.api as smf\n",
    "from sklearn.linear_model import LinearRegression"
   ]
  },
  {
   "cell_type": "markdown",
   "metadata": {},
   "source": [
    "# Reading The Dataset"
   ]
  },
  {
   "cell_type": "code",
   "execution_count": 2,
   "metadata": {},
   "outputs": [
    {
     "name": "stderr",
     "output_type": "stream",
     "text": [
      "C:\\Users\\DELL\\Anaconda3\\lib\\site-packages\\IPython\\core\\interactiveshell.py:3049: DtypeWarning: Columns (61,62,95) have mixed types. Specify dtype option on import or set low_memory=False.\n",
      "  interactivity=interactivity, compiler=compiler, result=result)\n"
     ]
    }
   ],
   "source": [
    "df_Hawaii=pd.read_csv('D:\\\\ML BG\\\\Project\\\\Final\\\\listings.csv',encoding=\"latin1\")"
   ]
  },
  {
   "cell_type": "code",
   "execution_count": 3,
   "metadata": {},
   "outputs": [
    {
     "data": {
      "text/html": [
       "<div>\n",
       "<style scoped>\n",
       "    .dataframe tbody tr th:only-of-type {\n",
       "        vertical-align: middle;\n",
       "    }\n",
       "\n",
       "    .dataframe tbody tr th {\n",
       "        vertical-align: top;\n",
       "    }\n",
       "\n",
       "    .dataframe thead th {\n",
       "        text-align: right;\n",
       "    }\n",
       "</style>\n",
       "<table border=\"1\" class=\"dataframe\">\n",
       "  <thead>\n",
       "    <tr style=\"text-align: right;\">\n",
       "      <th></th>\n",
       "      <th>id</th>\n",
       "      <th>listing_url</th>\n",
       "      <th>scrape_id</th>\n",
       "      <th>last_scraped</th>\n",
       "      <th>name</th>\n",
       "      <th>summary</th>\n",
       "      <th>space</th>\n",
       "      <th>description</th>\n",
       "      <th>experiences_offered</th>\n",
       "      <th>neighborhood_overview</th>\n",
       "      <th>...</th>\n",
       "      <th>instant_bookable</th>\n",
       "      <th>is_business_travel_ready</th>\n",
       "      <th>cancellation_policy</th>\n",
       "      <th>require_guest_profile_picture</th>\n",
       "      <th>require_guest_phone_verification</th>\n",
       "      <th>calculated_host_listings_count</th>\n",
       "      <th>calculated_host_listings_count_entire_homes</th>\n",
       "      <th>calculated_host_listings_count_private_rooms</th>\n",
       "      <th>calculated_host_listings_count_shared_rooms</th>\n",
       "      <th>reviews_per_month</th>\n",
       "    </tr>\n",
       "  </thead>\n",
       "  <tbody>\n",
       "    <tr>\n",
       "      <th>0</th>\n",
       "      <td>5065</td>\n",
       "      <td>https://www.airbnb.com/rooms/5065</td>\n",
       "      <td>2.020000e+13</td>\n",
       "      <td>12/4/2019</td>\n",
       "      <td>MAUKA BB</td>\n",
       "      <td>Perfect for your vacation, Staycation or just ...</td>\n",
       "      <td>Mauka B &amp; B is 400 square feet studio with a p...</td>\n",
       "      <td>Perfect for your vacation, Staycation or just ...</td>\n",
       "      <td>none</td>\n",
       "      <td>Neighbors here are friendly but are not really...</td>\n",
       "      <td>...</td>\n",
       "      <td>f</td>\n",
       "      <td>f</td>\n",
       "      <td>moderate</td>\n",
       "      <td>f</td>\n",
       "      <td>f</td>\n",
       "      <td>2</td>\n",
       "      <td>2</td>\n",
       "      <td>0</td>\n",
       "      <td>0</td>\n",
       "      <td>0.45</td>\n",
       "    </tr>\n",
       "    <tr>\n",
       "      <th>1</th>\n",
       "      <td>5269</td>\n",
       "      <td>https://www.airbnb.com/rooms/5269</td>\n",
       "      <td>2.020000e+13</td>\n",
       "      <td>12/5/2019</td>\n",
       "      <td>Upcountry Hospitality in the 'Auwai Suite</td>\n",
       "      <td>The 'Auwai Suite is a lovely, self-contained a...</td>\n",
       "      <td>The âAuwai Suite is a lovely, self-contained...</td>\n",
       "      <td>The 'Auwai Suite is a lovely, self-contained a...</td>\n",
       "      <td>none</td>\n",
       "      <td>We are located on the \"sunny side\" of Waimea, ...</td>\n",
       "      <td>...</td>\n",
       "      <td>t</td>\n",
       "      <td>f</td>\n",
       "      <td>strict_14_with_grace_period</td>\n",
       "      <td>f</td>\n",
       "      <td>f</td>\n",
       "      <td>5</td>\n",
       "      <td>4</td>\n",
       "      <td>1</td>\n",
       "      <td>0</td>\n",
       "      <td>0.09</td>\n",
       "    </tr>\n",
       "    <tr>\n",
       "      <th>2</th>\n",
       "      <td>5387</td>\n",
       "      <td>https://www.airbnb.com/rooms/5387</td>\n",
       "      <td>2.020000e+13</td>\n",
       "      <td>12/4/2019</td>\n",
       "      <td>Hale Koa Studio &amp; 1 Bedroom Units!!</td>\n",
       "      <td>This Wonderful Spacious Studio apt/flat is in ...</td>\n",
       "      <td>Hale Koa Duplex: This duplex has a wonderful, ...</td>\n",
       "      <td>This Wonderful Spacious Studio apt/flat is in ...</td>\n",
       "      <td>none</td>\n",
       "      <td>IN a Farm belt area with small commercial farm...</td>\n",
       "      <td>...</td>\n",
       "      <td>t</td>\n",
       "      <td>f</td>\n",
       "      <td>strict_14_with_grace_period</td>\n",
       "      <td>f</td>\n",
       "      <td>f</td>\n",
       "      <td>3</td>\n",
       "      <td>3</td>\n",
       "      <td>0</td>\n",
       "      <td>0</td>\n",
       "      <td>1.36</td>\n",
       "    </tr>\n",
       "    <tr>\n",
       "      <th>3</th>\n",
       "      <td>5389</td>\n",
       "      <td>https://www.airbnb.com/rooms/5389</td>\n",
       "      <td>2.020000e+13</td>\n",
       "      <td>12/5/2019</td>\n",
       "      <td>Keauhou Villa</td>\n",
       "      <td>It is less than 10 minute walk to the Keauhou ...</td>\n",
       "      <td>Location: Keauhou, Kona Coast, Big Island, Haw...</td>\n",
       "      <td>It is less than 10 minute walk to the Keauhou ...</td>\n",
       "      <td>none</td>\n",
       "      <td>It is less than 10 minute walk to the Keauhou ...</td>\n",
       "      <td>...</td>\n",
       "      <td>f</td>\n",
       "      <td>f</td>\n",
       "      <td>flexible</td>\n",
       "      <td>f</td>\n",
       "      <td>f</td>\n",
       "      <td>3</td>\n",
       "      <td>3</td>\n",
       "      <td>0</td>\n",
       "      <td>0</td>\n",
       "      <td>0.23</td>\n",
       "    </tr>\n",
       "    <tr>\n",
       "      <th>4</th>\n",
       "      <td>5390</td>\n",
       "      <td>https://www.airbnb.com/rooms/5390</td>\n",
       "      <td>2.020000e+13</td>\n",
       "      <td>12/5/2019</td>\n",
       "      <td>STAY AT PRINCE KUHIO!</td>\n",
       "      <td>NaN</td>\n",
       "      <td>Prince Kuhio, Studio Unit. Sleeps 2 privately....</td>\n",
       "      <td>Prince Kuhio, Studio Unit. Sleeps 2 privately....</td>\n",
       "      <td>none</td>\n",
       "      <td>NaN</td>\n",
       "      <td>...</td>\n",
       "      <td>f</td>\n",
       "      <td>f</td>\n",
       "      <td>strict_14_with_grace_period</td>\n",
       "      <td>f</td>\n",
       "      <td>f</td>\n",
       "      <td>1</td>\n",
       "      <td>1</td>\n",
       "      <td>0</td>\n",
       "      <td>0</td>\n",
       "      <td>1.01</td>\n",
       "    </tr>\n",
       "  </tbody>\n",
       "</table>\n",
       "<p>5 rows × 106 columns</p>\n",
       "</div>"
      ],
      "text/plain": [
       "     id                        listing_url     scrape_id last_scraped  \\\n",
       "0  5065  https://www.airbnb.com/rooms/5065  2.020000e+13    12/4/2019   \n",
       "1  5269  https://www.airbnb.com/rooms/5269  2.020000e+13    12/5/2019   \n",
       "2  5387  https://www.airbnb.com/rooms/5387  2.020000e+13    12/4/2019   \n",
       "3  5389  https://www.airbnb.com/rooms/5389  2.020000e+13    12/5/2019   \n",
       "4  5390  https://www.airbnb.com/rooms/5390  2.020000e+13    12/5/2019   \n",
       "\n",
       "                                        name  \\\n",
       "0                                   MAUKA BB   \n",
       "1  Upcountry Hospitality in the 'Auwai Suite   \n",
       "2        Hale Koa Studio & 1 Bedroom Units!!   \n",
       "3                              Keauhou Villa   \n",
       "4                      STAY AT PRINCE KUHIO!   \n",
       "\n",
       "                                             summary  \\\n",
       "0  Perfect for your vacation, Staycation or just ...   \n",
       "1  The 'Auwai Suite is a lovely, self-contained a...   \n",
       "2  This Wonderful Spacious Studio apt/flat is in ...   \n",
       "3  It is less than 10 minute walk to the Keauhou ...   \n",
       "4                                                NaN   \n",
       "\n",
       "                                               space  \\\n",
       "0  Mauka B & B is 400 square feet studio with a p...   \n",
       "1  The âAuwai Suite is a lovely, self-contained...   \n",
       "2  Hale Koa Duplex: This duplex has a wonderful, ...   \n",
       "3  Location: Keauhou, Kona Coast, Big Island, Haw...   \n",
       "4  Prince Kuhio, Studio Unit. Sleeps 2 privately....   \n",
       "\n",
       "                                         description experiences_offered  \\\n",
       "0  Perfect for your vacation, Staycation or just ...                none   \n",
       "1  The 'Auwai Suite is a lovely, self-contained a...                none   \n",
       "2  This Wonderful Spacious Studio apt/flat is in ...                none   \n",
       "3  It is less than 10 minute walk to the Keauhou ...                none   \n",
       "4  Prince Kuhio, Studio Unit. Sleeps 2 privately....                none   \n",
       "\n",
       "                               neighborhood_overview  ... instant_bookable  \\\n",
       "0  Neighbors here are friendly but are not really...  ...                f   \n",
       "1  We are located on the \"sunny side\" of Waimea, ...  ...                t   \n",
       "2  IN a Farm belt area with small commercial farm...  ...                t   \n",
       "3  It is less than 10 minute walk to the Keauhou ...  ...                f   \n",
       "4                                                NaN  ...                f   \n",
       "\n",
       "  is_business_travel_ready          cancellation_policy  \\\n",
       "0                        f                     moderate   \n",
       "1                        f  strict_14_with_grace_period   \n",
       "2                        f  strict_14_with_grace_period   \n",
       "3                        f                     flexible   \n",
       "4                        f  strict_14_with_grace_period   \n",
       "\n",
       "  require_guest_profile_picture require_guest_phone_verification  \\\n",
       "0                             f                                f   \n",
       "1                             f                                f   \n",
       "2                             f                                f   \n",
       "3                             f                                f   \n",
       "4                             f                                f   \n",
       "\n",
       "   calculated_host_listings_count  \\\n",
       "0                               2   \n",
       "1                               5   \n",
       "2                               3   \n",
       "3                               3   \n",
       "4                               1   \n",
       "\n",
       "   calculated_host_listings_count_entire_homes  \\\n",
       "0                                            2   \n",
       "1                                            4   \n",
       "2                                            3   \n",
       "3                                            3   \n",
       "4                                            1   \n",
       "\n",
       "  calculated_host_listings_count_private_rooms  \\\n",
       "0                                            0   \n",
       "1                                            1   \n",
       "2                                            0   \n",
       "3                                            0   \n",
       "4                                            0   \n",
       "\n",
       "   calculated_host_listings_count_shared_rooms  reviews_per_month  \n",
       "0                                            0               0.45  \n",
       "1                                            0               0.09  \n",
       "2                                            0               1.36  \n",
       "3                                            0               0.23  \n",
       "4                                            0               1.01  \n",
       "\n",
       "[5 rows x 106 columns]"
      ]
     },
     "execution_count": 3,
     "metadata": {},
     "output_type": "execute_result"
    }
   ],
   "source": [
    "df_Hawaii.head()"
   ]
  },
  {
   "cell_type": "code",
   "execution_count": 4,
   "metadata": {},
   "outputs": [
    {
     "data": {
      "text/plain": [
       "(23745, 106)"
      ]
     },
     "execution_count": 4,
     "metadata": {},
     "output_type": "execute_result"
    }
   ],
   "source": [
    "df_Hawaii.shape"
   ]
  },
  {
   "cell_type": "code",
   "execution_count": 5,
   "metadata": {},
   "outputs": [
    {
     "data": {
      "text/plain": [
       "id                                                int64\n",
       "listing_url                                      object\n",
       "scrape_id                                       float64\n",
       "last_scraped                                     object\n",
       "name                                             object\n",
       "summary                                          object\n",
       "space                                            object\n",
       "description                                      object\n",
       "experiences_offered                              object\n",
       "neighborhood_overview                            object\n",
       "notes                                            object\n",
       "transit                                          object\n",
       "access                                           object\n",
       "interaction                                      object\n",
       "house_rules                                      object\n",
       "thumbnail_url                                   float64\n",
       "medium_url                                      float64\n",
       "picture_url                                      object\n",
       "xl_picture_url                                  float64\n",
       "host_id                                           int64\n",
       "host_url                                         object\n",
       "host_name                                        object\n",
       "host_since                                       object\n",
       "host_location                                    object\n",
       "host_about                                       object\n",
       "host_response_time                               object\n",
       "host_response_rate                               object\n",
       "host_acceptance_rate                            float64\n",
       "host_is_superhost                                object\n",
       "host_thumbnail_url                               object\n",
       "                                                 ...   \n",
       "has_availability                                 object\n",
       "availability_30                                   int64\n",
       "availability_60                                   int64\n",
       "availability_90                                   int64\n",
       "availability_365                                  int64\n",
       "calendar_last_scraped                            object\n",
       "number_of_reviews                                 int64\n",
       "number_of_reviews_ltm                             int64\n",
       "first_review                                     object\n",
       "last_review                                      object\n",
       "review_scores_rating                            float64\n",
       "review_scores_accuracy                          float64\n",
       "review_scores_cleanliness                       float64\n",
       "review_scores_checkin                           float64\n",
       "review_scores_communication                     float64\n",
       "review_scores_location                          float64\n",
       "review_scores_value                             float64\n",
       "requires_license                                 object\n",
       "license                                          object\n",
       "jurisdiction_names                               object\n",
       "instant_bookable                                 object\n",
       "is_business_travel_ready                         object\n",
       "cancellation_policy                              object\n",
       "require_guest_profile_picture                    object\n",
       "require_guest_phone_verification                 object\n",
       "calculated_host_listings_count                    int64\n",
       "calculated_host_listings_count_entire_homes       int64\n",
       "calculated_host_listings_count_private_rooms      int64\n",
       "calculated_host_listings_count_shared_rooms       int64\n",
       "reviews_per_month                               float64\n",
       "Length: 106, dtype: object"
      ]
     },
     "execution_count": 5,
     "metadata": {},
     "output_type": "execute_result"
    }
   ],
   "source": [
    "df_Hawaii.dtypes"
   ]
  },
  {
   "cell_type": "markdown",
   "metadata": {},
   "source": [
    "# Check for null Values"
   ]
  },
  {
   "cell_type": "code",
   "execution_count": 6,
   "metadata": {},
   "outputs": [
    {
     "data": {
      "text/plain": [
       "id                                                  0\n",
       "listing_url                                         0\n",
       "scrape_id                                           0\n",
       "last_scraped                                        0\n",
       "name                                               16\n",
       "summary                                           668\n",
       "space                                            3706\n",
       "description                                       186\n",
       "experiences_offered                                 0\n",
       "neighborhood_overview                            9748\n",
       "notes                                            9641\n",
       "transit                                         10897\n",
       "access                                          10706\n",
       "interaction                                      9916\n",
       "house_rules                                      7031\n",
       "thumbnail_url                                   23745\n",
       "medium_url                                      23745\n",
       "picture_url                                         0\n",
       "xl_picture_url                                  23745\n",
       "host_id                                             0\n",
       "host_url                                            0\n",
       "host_name                                         276\n",
       "host_since                                        276\n",
       "host_location                                     304\n",
       "host_about                                       6916\n",
       "host_response_time                               1476\n",
       "host_response_rate                               1476\n",
       "host_acceptance_rate                            23745\n",
       "host_is_superhost                                 276\n",
       "host_thumbnail_url                                276\n",
       "                                                ...  \n",
       "has_availability                                    0\n",
       "availability_30                                     0\n",
       "availability_60                                     0\n",
       "availability_90                                     0\n",
       "availability_365                                    0\n",
       "calendar_last_scraped                               0\n",
       "number_of_reviews                                   0\n",
       "number_of_reviews_ltm                               0\n",
       "first_review                                     5451\n",
       "last_review                                      5451\n",
       "review_scores_rating                             5636\n",
       "review_scores_accuracy                           5642\n",
       "review_scores_cleanliness                        5641\n",
       "review_scores_checkin                            5647\n",
       "review_scores_communication                      5643\n",
       "review_scores_location                           5647\n",
       "review_scores_value                              5648\n",
       "requires_license                                    0\n",
       "license                                         12992\n",
       "jurisdiction_names                              23744\n",
       "instant_bookable                                    0\n",
       "is_business_travel_ready                            0\n",
       "cancellation_policy                                 0\n",
       "require_guest_profile_picture                       0\n",
       "require_guest_phone_verification                    0\n",
       "calculated_host_listings_count                      0\n",
       "calculated_host_listings_count_entire_homes         0\n",
       "calculated_host_listings_count_private_rooms        0\n",
       "calculated_host_listings_count_shared_rooms         0\n",
       "reviews_per_month                                5451\n",
       "Length: 106, dtype: int64"
      ]
     },
     "execution_count": 6,
     "metadata": {},
     "output_type": "execute_result"
    }
   ],
   "source": [
    "df_Hawaii.isnull().sum()"
   ]
  },
  {
   "cell_type": "markdown",
   "metadata": {},
   "source": [
    "# Remove columns that has more than 70% null values"
   ]
  },
  {
   "cell_type": "code",
   "execution_count": 7,
   "metadata": {},
   "outputs": [
    {
     "data": {
      "text/plain": [
       "(23745, 92)"
      ]
     },
     "execution_count": 7,
     "metadata": {},
     "output_type": "execute_result"
    }
   ],
   "source": [
    "df_new=df_Hawaii.dropna(thresh=df_Hawaii.shape[0]*0.7,how='all',axis=1)\n",
    "df_new.shape\n",
    "#9 columns got removed"
   ]
  },
  {
   "cell_type": "markdown",
   "metadata": {},
   "source": [
    "# Split the dataset to categorical and numerical"
   ]
  },
  {
   "cell_type": "code",
   "execution_count": 8,
   "metadata": {},
   "outputs": [
    {
     "data": {
      "text/plain": [
       "((23745, 42), (23745, 50))"
      ]
     },
     "execution_count": 8,
     "metadata": {},
     "output_type": "execute_result"
    }
   ],
   "source": [
    "df_num=df_new.select_dtypes(include=['int64','float64'])\n",
    "df_cat=df_new.select_dtypes(include=['object'])\n",
    "df_num.shape,df_cat.shape"
   ]
  },
  {
   "cell_type": "markdown",
   "metadata": {},
   "source": [
    "# Handling Numeric data "
   ]
  },
  {
   "cell_type": "code",
   "execution_count": 9,
   "metadata": {},
   "outputs": [
    {
     "data": {
      "text/plain": [
       "id                                                 0\n",
       "scrape_id                                          0\n",
       "host_id                                            0\n",
       "host_listings_count                              276\n",
       "host_total_listings_count                        276\n",
       "latitude                                           0\n",
       "longitude                                          0\n",
       "accommodates                                       0\n",
       "bathrooms                                         11\n",
       "bedrooms                                          19\n",
       "beds                                              44\n",
       "price                                              0\n",
       "security_deposit                                3746\n",
       "cleaning_fee                                    1761\n",
       "guests_included                                    0\n",
       "extra_people                                       0\n",
       "minimum_nights                                     0\n",
       "maximum_nights                                     0\n",
       "minimum_minimum_nights                             0\n",
       "maximum_minimum_nights                             0\n",
       "minimum_maximum_nights                             0\n",
       "maximum_maximum_nights                             0\n",
       "minimum_nights_avg_ntm                             0\n",
       "maximum_nights_avg_ntm                             0\n",
       "availability_30                                    0\n",
       "availability_60                                    0\n",
       "availability_90                                    0\n",
       "availability_365                                   0\n",
       "number_of_reviews                                  0\n",
       "number_of_reviews_ltm                              0\n",
       "review_scores_rating                            5636\n",
       "review_scores_accuracy                          5642\n",
       "review_scores_cleanliness                       5641\n",
       "review_scores_checkin                           5647\n",
       "review_scores_communication                     5643\n",
       "review_scores_location                          5647\n",
       "review_scores_value                             5648\n",
       "calculated_host_listings_count                     0\n",
       "calculated_host_listings_count_entire_homes        0\n",
       "calculated_host_listings_count_private_rooms       0\n",
       "calculated_host_listings_count_shared_rooms        0\n",
       "reviews_per_month                               5451\n",
       "dtype: int64"
      ]
     },
     "execution_count": 9,
     "metadata": {},
     "output_type": "execute_result"
    }
   ],
   "source": [
    "df_num.isnull().sum()"
   ]
  },
  {
   "cell_type": "markdown",
   "metadata": {},
   "source": [
    "# Visualize numeric data "
   ]
  },
  {
   "cell_type": "code",
   "execution_count": 11,
   "metadata": {},
   "outputs": [
    {
     "data": {
      "image/png": "[encoded data removed]",
      "text/plain": [
       "<Figure size 1440x1440 with 42 Axes>"
      ]
     },
     "metadata": {
      "needs_background": "light"
     },
     "output_type": "display_data"
    }
   ],
   "source": [
    "df_num.hist(figsize=(20,20))\n",
    "plt.show()"
   ]
  },
  {
   "cell_type": "code",
   "execution_count": null,
   "metadata": {},
   "outputs": [],
   "source": [
    "#We observe that most of the variables are ordinal and discrete and target variable,Price is skewed.\n",
    "#Security_deposit,Cleaning fee are continuous"
   ]
  },
  {
   "cell_type": "code",
   "execution_count": 12,
   "metadata": {},
   "outputs": [],
   "source": [
    "df_num_new=df_num.fillna({'host_listings_count':df_num['host_listings_count'].mode()[0],\n",
    "                          'bathrooms':df_num['bathrooms'].mode()[0],\n",
    "                          'bedrooms':df_num['bedrooms'].mode()[0],\n",
    "                          'beds':df_num['beds'].mode()[0],\n",
    "                          'review_scores_rating':96,\n",
    "                          'review_scores_accuracy':df_num['review_scores_accuracy'].mode()[0],\n",
    "                          'review_scores_cleanliness':df_num['review_scores_cleanliness'].mode()[0],\n",
    "                           'review_scores_checkin':df_num['review_scores_checkin'].mode()[0],\n",
    "                           'review_scores_communication':df_num['review_scores_communication'].mode()[0],\n",
    "                          'review_scores_location':df_num['review_scores_location'].mode()[0],\n",
    "                          'reviews_per_month':df_num['reviews_per_month'].mean(),\n",
    "                          'review_scores_value':df_num['review_scores_value'].mode()[0],\n",
    "                          'security_deposit':df_num['security_deposit'].mean(),\n",
    "                          'cleaning_fee':df_num['cleaning_fee'].mean()})"
   ]
  },
  {
   "cell_type": "markdown",
   "metadata": {},
   "source": [
    "# Does availabity affects price?"
   ]
  },
  {
   "cell_type": "code",
   "execution_count": 13,
   "metadata": {},
   "outputs": [
    {
     "data": {
      "image/png": "[encoded data removed]",
      "text/plain": [
       "<Figure size 576x576 with 4 Axes>"
      ]
     },
     "metadata": {
      "needs_background": "light"
     },
     "output_type": "display_data"
    }
   ],
   "source": [
    "#Check relationship between all availability variables and price.(scatter plot)\n",
    "from pylab import *\n",
    "x=df_num[\"availability_30\"]\n",
    "x1=df_num[\"availability_60\"]\n",
    "x2=df_num[\"availability_90\"]\n",
    "x3=df_num[\"availability_365\"]\n",
    "y= df_num[\"price\"]\n",
    "plt.figure(figsize=(8, 8))\n",
    "\n",
    "plt.subplot(2, 2, 1)\n",
    "title('subplot_availability_30')\n",
    "plt.scatter(x, y)\n",
    "\n",
    "plt.subplot(2, 2, 2)\n",
    "title('subplot_availability_60')\n",
    "# plt.figure(figsize=(6, 8))\n",
    "plt.scatter(x1, y)\n",
    "\n",
    "plt.subplot(2, 2, 3)\n",
    "# plt.figure(figsize=(6, 8))\n",
    "title('subplot_availability_90')\n",
    "plt.scatter(x2, y)\n",
    "\n",
    "plt.subplot(2, 2, 4)\n",
    "# plt.figure(figsize=(6, 8))\n",
    "title('subplot_availability_365')\n",
    "plt.scatter(x3, y)\n",
    "\n",
    "plt.show()"
   ]
  },
  {
   "cell_type": "markdown",
   "metadata": {},
   "source": [
    "# Does number of nights spent affect price?"
   ]
  },
  {
   "cell_type": "code",
   "execution_count": 14,
   "metadata": {},
   "outputs": [
    {
     "data": {
      "image/png": "[encoded data removed]",
      "text/plain": [
       "<Figure size 864x864 with 9 Axes>"
      ]
     },
     "metadata": {
      "needs_background": "light"
     },
     "output_type": "display_data"
    }
   ],
   "source": [
    "from pylab import *\n",
    "x=df_num[\"minimum_nights\"]\n",
    "x1=df_num[\"maximum_nights\"]\n",
    "x2=df_num[\"minimum_minimum_nights\"]\n",
    "x3=df_num[\"maximum_minimum_nights\"]\n",
    "x4=df_num[\"minimum_maximum_nights\"]\n",
    "x5=df_num[\"maximum_maximum_nights\"]\n",
    "x6=df_num[\"minimum_nights_avg_ntm\"]\n",
    "x7=df_num[\"minimum_nights_avg_ntm\"]\n",
    "x8=df_num[\"maximum_nights_avg_ntm\"]\n",
    "y= df_num[\"price\"]\n",
    "plt.figure(figsize=(12, 12))\n",
    "\n",
    "plt.subplot(3, 3, 1)\n",
    "title('minimum_nights')\n",
    "plt.scatter(x, y)\n",
    "\n",
    "plt.subplot(3, 3, 2)\n",
    "title('maximum_nights')\n",
    "# plt.figure(figsize=(6, 8))\n",
    "plt.scatter(x1, y)\n",
    "\n",
    "plt.subplot(3, 3, 3)\n",
    "# plt.figure(figsize=(6, 8))\n",
    "title('minimum_minimum_nights')\n",
    "plt.scatter(x2, y)\n",
    "\n",
    "plt.subplot(3, 3, 4)\n",
    "# plt.figure(figsize=(6, 8))\n",
    "title('maximum_minimum_nights')\n",
    "plt.scatter(x3, y)\n",
    "\n",
    "plt.subplot(3, 3, 5)\n",
    "# plt.figure(figsize=(6, 8))\n",
    "title('minimum_maximum_nights')\n",
    "plt.scatter(x4, y)\n",
    "\n",
    "plt.subplot(3, 3, 6)\n",
    "# plt.figure(figsize=(6, 8))\n",
    "title('maximum_maximum_nights')\n",
    "plt.scatter(x5, y)\n",
    "\n",
    "plt.subplot(3, 3, 7)\n",
    "# plt.figure(figsize=(6, 8))\n",
    "title('minimum_nights_avg_ntm')\n",
    "plt.scatter(x6, y)\n",
    "\n",
    "plt.subplot(3, 3, 8)\n",
    "# plt.figure(figsize=(6, 8))\n",
    "title('minimum_nights_avg_ntm')\n",
    "plt.scatter(x7, y)\n",
    "\n",
    "plt.subplot(3, 3, 9)\n",
    "# plt.figure(figsize=(6, 8))\n",
    "title('maximum_nights_avg_ntm')\n",
    "plt.scatter(x8, y)\n",
    "\n",
    "\n",
    "plt.show()"
   ]
  },
  {
   "cell_type": "markdown",
   "metadata": {},
   "source": [
    "# We remove unwanted numeric columns"
   ]
  },
  {
   "cell_type": "code",
   "execution_count": 15,
   "metadata": {},
   "outputs": [],
   "source": [
    "#Normalize security_deposit,cleaning_fee,price\n",
    "sd=np.log(1+df_num_new['security_deposit'])\n",
    "cf=np.log(1+df_num_new['cleaning_fee'])\n",
    "price=np.log(1+df_num_new['price'])"
   ]
  },
  {
   "cell_type": "code",
   "execution_count": 16,
   "metadata": {},
   "outputs": [],
   "source": [
    "df=df_num_new.drop(['id', 'scrape_id', 'host_id','latitude',\n",
    "       'longitude','minimum_nights', 'maximum_nights', 'minimum_minimum_nights',\n",
    "       'maximum_minimum_nights', 'minimum_maximum_nights',\n",
    "       'maximum_maximum_nights', 'minimum_nights_avg_ntm',\n",
    "       'maximum_nights_avg_ntm', 'availability_30', 'availability_60',\n",
    "       'availability_90', 'availability_365','security_deposit','cleaning_fee','price',\n",
    "        'host_total_listings_count'],axis=1)"
   ]
  },
  {
   "cell_type": "code",
   "execution_count": 17,
   "metadata": {},
   "outputs": [
    {
     "data": {
      "text/plain": [
       "(23745, 24)"
      ]
     },
     "execution_count": 17,
     "metadata": {},
     "output_type": "execute_result"
    }
   ],
   "source": [
    "df_num_final=pd.concat([df,sd,cf,price],axis=1)\n",
    "df_num_final.shape"
   ]
  },
  {
   "cell_type": "markdown",
   "metadata": {},
   "source": [
    "# Categorical data"
   ]
  },
  {
   "cell_type": "code",
   "execution_count": 18,
   "metadata": {},
   "outputs": [
    {
     "data": {
      "text/plain": [
       "((23745, 50), listing_url                            0\n",
       " last_scraped                           0\n",
       " name                                  16\n",
       " summary                              668\n",
       " space                               3706\n",
       " description                          186\n",
       " experiences_offered                    0\n",
       " house_rules                         7031\n",
       " picture_url                            0\n",
       " host_url                               0\n",
       " host_name                            276\n",
       " host_since                           276\n",
       " host_location                        304\n",
       " host_about                          6916\n",
       " host_response_time                  1476\n",
       " host_response_rate                  1476\n",
       " host_is_superhost                    276\n",
       " host_thumbnail_url                   276\n",
       " host_picture_url                     276\n",
       " host_neighbourhood                  4193\n",
       " host_verifications                     0\n",
       " host_has_profile_pic                 276\n",
       " host_identity_verified               276\n",
       " street                                 0\n",
       " neighbourhood                         32\n",
       " neighbourhood_cleansed                 0\n",
       " neighbourhood_group_cleansed           0\n",
       " city                                   2\n",
       " state                                 17\n",
       " zipcode                              291\n",
       " market                                15\n",
       " smart_location                         0\n",
       " country_code                           0\n",
       " country                                0\n",
       " is_location_exact                      0\n",
       " property_type                          0\n",
       " room_type                              0\n",
       " bed_type                               0\n",
       " amenities                              0\n",
       " calendar_updated                       0\n",
       " has_availability                       0\n",
       " calendar_last_scraped                  0\n",
       " first_review                        5451\n",
       " last_review                         5451\n",
       " requires_license                       0\n",
       " instant_bookable                       0\n",
       " is_business_travel_ready               0\n",
       " cancellation_policy                    0\n",
       " require_guest_profile_picture          0\n",
       " require_guest_phone_verification       0\n",
       " dtype: int64)"
      ]
     },
     "execution_count": 18,
     "metadata": {},
     "output_type": "execute_result"
    }
   ],
   "source": [
    "df_cat.shape,df_cat.isnull().sum()"
   ]
  },
  {
   "cell_type": "markdown",
   "metadata": {},
   "source": [
    "# Types of categorical data"
   ]
  },
  {
   "cell_type": "code",
   "execution_count": 19,
   "metadata": {},
   "outputs": [],
   "source": [
    "categorical=['host_location','host_response_time','host_neighbourhood','street','neighbourhood_group_cleansed',\n",
    "             'state','market','country','property_type','room_type','bed_type','cancellation_policy']\n",
    "\n",
    "\n",
    "boolean=['host_is_superhost','host_has_profile_pic','host_identity_verified','is_location_exact','has_availability',\n",
    "         'requires_license','instant_bookable','require_guest_profile_picture','require_guest_phone_verification',\n",
    "         'is_business_travel_ready']\n",
    "\n",
    "\n",
    "date=['host_since','first_review','last_review']\n",
    "\n",
    "\n",
    "textual=['listing_url', 'last_scraped', 'name', 'summary', 'space','description', 'experiences_offered', \n",
    "         'picture_url', 'host_url','host_name','host_thumbnail_url','host_picture_url','host_verifications','neighbourhood',\n",
    "        'neighbourhood_cleansed','city','zipcode','smart_location','country_code','amenities','calendar_updated',\n",
    "         'calendar_last_scraped','house_rules','host_location', 'host_about','host_response_rate']"
   ]
  },
  {
   "cell_type": "code",
   "execution_count": 20,
   "metadata": {},
   "outputs": [
    {
     "data": {
      "text/plain": [
       "host_since                           276\n",
       "host_response_time                  1476\n",
       "host_is_superhost                    276\n",
       "host_neighbourhood                  4193\n",
       "host_has_profile_pic                 276\n",
       "host_identity_verified               276\n",
       "street                                 0\n",
       "neighbourhood_group_cleansed           0\n",
       "state                                 17\n",
       "market                                15\n",
       "country                                0\n",
       "is_location_exact                      0\n",
       "property_type                          0\n",
       "room_type                              0\n",
       "bed_type                               0\n",
       "has_availability                       0\n",
       "first_review                        5451\n",
       "last_review                         5451\n",
       "requires_license                       0\n",
       "instant_bookable                       0\n",
       "is_business_travel_ready               0\n",
       "cancellation_policy                    0\n",
       "require_guest_profile_picture          0\n",
       "require_guest_phone_verification       0\n",
       "dtype: int64"
      ]
     },
     "execution_count": 20,
     "metadata": {},
     "output_type": "execute_result"
    }
   ],
   "source": [
    "df1=df_cat.drop(textual,axis=1)\n",
    "df1.isnull().sum()"
   ]
  },
  {
   "cell_type": "code",
   "execution_count": 21,
   "metadata": {},
   "outputs": [
    {
     "data": {
      "text/plain": [
       "165"
      ]
     },
     "execution_count": 21,
     "metadata": {},
     "output_type": "execute_result"
    }
   ],
   "source": [
    "len(df1['host_neighbourhood'].unique())"
   ]
  },
  {
   "cell_type": "code",
   "execution_count": 22,
   "metadata": {},
   "outputs": [
    {
     "data": {
      "text/plain": [
       "297"
      ]
     },
     "execution_count": 22,
     "metadata": {},
     "output_type": "execute_result"
    }
   ],
   "source": [
    "len(df1['street'].unique())"
   ]
  },
  {
   "cell_type": "markdown",
   "metadata": {},
   "source": [
    "# Dropping Unwanted categorical Variables"
   ]
  },
  {
   "cell_type": "code",
   "execution_count": 23,
   "metadata": {},
   "outputs": [
    {
     "data": {
      "text/plain": [
       "host_response_time                  1476\n",
       "host_is_superhost                    276\n",
       "host_has_profile_pic                 276\n",
       "host_identity_verified               276\n",
       "neighbourhood_group_cleansed           0\n",
       "state                                 17\n",
       "market                                15\n",
       "country                                0\n",
       "is_location_exact                      0\n",
       "property_type                          0\n",
       "room_type                              0\n",
       "bed_type                               0\n",
       "has_availability                       0\n",
       "requires_license                       0\n",
       "instant_bookable                       0\n",
       "is_business_travel_ready               0\n",
       "cancellation_policy                    0\n",
       "require_guest_profile_picture          0\n",
       "require_guest_phone_verification       0\n",
       "dtype: int64"
      ]
     },
     "execution_count": 23,
     "metadata": {},
     "output_type": "execute_result"
    }
   ],
   "source": [
    "dfc=df1.drop(['host_since','first_review','last_review','host_neighbourhood','street'],axis=1)\n",
    "# df2=df2.drop(['host_response_rate'],axis=1)\n",
    "dfc.isnull().sum()"
   ]
  },
  {
   "cell_type": "markdown",
   "metadata": {},
   "source": [
    "# Handling Missing Values"
   ]
  },
  {
   "cell_type": "code",
   "execution_count": 24,
   "metadata": {},
   "outputs": [
    {
     "data": {
      "text/plain": [
       "within an hour        16446\n",
       "within a few hours     4287\n",
       "within a day           1305\n",
       "a few days or more      231\n",
       "Name: host_response_time, dtype: int64"
      ]
     },
     "execution_count": 24,
     "metadata": {},
     "output_type": "execute_result"
    }
   ],
   "source": [
    "dfc['host_response_time'].value_counts()"
   ]
  },
  {
   "cell_type": "code",
   "execution_count": 25,
   "metadata": {},
   "outputs": [
    {
     "data": {
      "text/plain": [
       "HI        23691\n",
       "Hi           34\n",
       "Hawaii        1\n",
       "FL            1\n",
       "US            1\n",
       "Name: state, dtype: int64"
      ]
     },
     "execution_count": 25,
     "metadata": {},
     "output_type": "execute_result"
    }
   ],
   "source": [
    "dfc['state'].value_counts()"
   ]
  },
  {
   "cell_type": "code",
   "execution_count": 26,
   "metadata": {},
   "outputs": [
    {
     "data": {
      "text/plain": [
       "Maui                     7724\n",
       "Oahu                     7215\n",
       "The Big Island           5513\n",
       "Kauai                    3143\n",
       "Other (Domestic)           80\n",
       "Big Island                 51\n",
       "Other (International)       2\n",
       "San Francisco               1\n",
       "South Bay, CA               1\n",
       "Name: market, dtype: int64"
      ]
     },
     "execution_count": 26,
     "metadata": {},
     "output_type": "execute_result"
    }
   ],
   "source": [
    "dfc['market'].value_counts()"
   ]
  },
  {
   "cell_type": "code",
   "execution_count": 27,
   "metadata": {},
   "outputs": [],
   "source": [
    "df3=dfc.fillna({'host_response_time':'within an hour','host_is_superhost':'f','host_has_profile_pic':'t',\n",
    "               'host_identity_verified':'f','state':'HI','market':'maui'})"
   ]
  },
  {
   "cell_type": "code",
   "execution_count": 28,
   "metadata": {},
   "outputs": [
    {
     "data": {
      "text/plain": [
       "0"
      ]
     },
     "execution_count": 28,
     "metadata": {},
     "output_type": "execute_result"
    }
   ],
   "source": [
    "df3.isnull().sum().sum()"
   ]
  },
  {
   "cell_type": "markdown",
   "metadata": {},
   "source": [
    "# Encoding variables"
   ]
  },
  {
   "cell_type": "code",
   "execution_count": 29,
   "metadata": {},
   "outputs": [
    {
     "data": {
      "text/plain": [
       "(23745, 91)"
      ]
     },
     "execution_count": 29,
     "metadata": {},
     "output_type": "execute_result"
    }
   ],
   "source": [
    "df_bool=df3.replace({'f':0,'t':1})\n",
    "df_LE=df_bool.replace({'within an hour':4,'within a few hours':3,'within a day':2,'a few days or more':1})\n",
    "df_cat_final=pd.get_dummies(data=df_LE,columns=['neighbourhood_group_cleansed', 'state','market','room_type','bed_type',\n",
    "                                                'cancellation_policy','property_type'])\n",
    "df_cat_final=df_cat_final.drop(['country'],axis=1)\n",
    "df_cat_final.shape"
   ]
  },
  {
   "cell_type": "markdown",
   "metadata": {},
   "source": [
    "# Creating Final dataframe"
   ]
  },
  {
   "cell_type": "code",
   "execution_count": 30,
   "metadata": {},
   "outputs": [
    {
     "data": {
      "text/plain": [
       "(23745, 115)"
      ]
     },
     "execution_count": 30,
     "metadata": {},
     "output_type": "execute_result"
    }
   ],
   "source": [
    "df=pd.concat([df_num_final,df_cat_final],axis=1)\n",
    "df.shape"
   ]
  },
  {
   "cell_type": "code",
   "execution_count": 31,
   "metadata": {},
   "outputs": [
    {
     "data": {
      "image/png": "[encoded data removed]",
      "text/plain": [
       "<Figure size 432x288 with 1 Axes>"
      ]
     },
     "metadata": {
      "needs_background": "light"
     },
     "output_type": "display_data"
    }
   ],
   "source": [
    "#Making Price variable normalized\n",
    "plt.hist(df_num_final['price'])\n",
    "plt.title('price')\n",
    "plt.show()"
   ]
  },
  {
   "cell_type": "code",
   "execution_count": 32,
   "metadata": {},
   "outputs": [],
   "source": [
    "x=df.drop(['price'],axis=1)\n",
    "y=df['price']"
   ]
  },
  {
   "cell_type": "code",
   "execution_count": 33,
   "metadata": {},
   "outputs": [
    {
     "data": {
      "text/plain": [
       "0.628004123993267"
      ]
     },
     "execution_count": 33,
     "metadata": {},
     "output_type": "execute_result"
    }
   ],
   "source": [
    "X_train,X_test,Y_train,Y_test=train_test_split(x,y,test_size=0.2,random_state=10)\n",
    "model=LinearRegression().fit(x,y)\n",
    "model.score(x,y)"
   ]
  },
  {
   "cell_type": "code",
   "execution_count": 34,
   "metadata": {},
   "outputs": [
    {
     "name": "stdout",
     "output_type": "stream",
     "text": [
      "0.25703574315729316\n",
      "0.2665348363513679\n"
     ]
    }
   ],
   "source": [
    "train_MSE = np.mean((y - model.predict(x))**2)\n",
    "test_MSE = np.mean((Y_test - model.predict(X_test))**2)\n",
    "print(train_MSE)\n",
    "print(test_MSE)"
   ]
  },
  {
   "cell_type": "markdown",
   "metadata": {},
   "source": [
    "# With Feature Engineering to improve model accuracy"
   ]
  },
  {
   "cell_type": "code",
   "execution_count": 35,
   "metadata": {},
   "outputs": [
    {
     "data": {
      "text/plain": [
       "(23745, 114)"
      ]
     },
     "execution_count": 35,
     "metadata": {},
     "output_type": "execute_result"
    }
   ],
   "source": [
    "dff=pd.concat([x,y],axis=1)\n",
    "dff.shape\n",
    "x.shape"
   ]
  },
  {
   "cell_type": "markdown",
   "metadata": {},
   "source": [
    "# Point Biserial"
   ]
  },
  {
   "cell_type": "code",
   "execution_count": null,
   "metadata": {},
   "outputs": [],
   "source": [
    "##Identified variables that were ordinal and removed them"
   ]
  },
  {
   "cell_type": "code",
   "execution_count": 36,
   "metadata": {},
   "outputs": [],
   "source": [
    "df_binary=dff.drop(['host_listings_count', 'accommodates', 'bathrooms', 'bedrooms', 'beds',\n",
    "       'security_deposit', 'cleaning_fee', 'guests_included', 'extra_people',\n",
    "       'number_of_reviews', 'number_of_reviews_ltm', 'review_scores_rating',\n",
    "       'review_scores_accuracy', 'review_scores_cleanliness',\n",
    "       'review_scores_checkin', 'review_scores_communication',\n",
    "       'review_scores_location', 'review_scores_value',\n",
    "       'calculated_host_listings_count',\n",
    "       'calculated_host_listings_count_entire_homes',\n",
    "       'calculated_host_listings_count_private_rooms',\n",
    "       'calculated_host_listings_count_shared_rooms', 'reviews_per_month','host_response_time','price'],axis=1)"
   ]
  },
  {
   "cell_type": "code",
   "execution_count": 37,
   "metadata": {},
   "outputs": [
    {
     "name": "stderr",
     "output_type": "stream",
     "text": [
      "C:\\Users\\DELL\\AppData\\Roaming\\Python\\Python37\\site-packages\\scipy\\stats\\stats.py:3038: RuntimeWarning: invalid value encountered in double_scalars\n",
      "  r = r_num / r_den\n"
     ]
    },
    {
     "data": {
      "text/plain": [
       "['neighbourhood_group_cleansed_Kauai',\n",
       " 'neighbourhood_group_cleansed_Maui',\n",
       " 'state_FL',\n",
       " 'state_HI',\n",
       " 'state_US',\n",
       " 'market_Big Island',\n",
       " 'market_Kauai',\n",
       " 'market_Maui',\n",
       " 'room_type_Entire home/apt',\n",
       " 'room_type_Hotel room',\n",
       " 'bed_type_Real Bed',\n",
       " 'cancellation_policy_luxury_moderate',\n",
       " 'cancellation_policy_luxury_no_refund',\n",
       " 'cancellation_policy_luxury_super_strict_125',\n",
       " 'cancellation_policy_luxury_super_strict_95',\n",
       " 'cancellation_policy_super_strict_30',\n",
       " 'cancellation_policy_super_strict_60',\n",
       " 'property_type_Boutique hotel',\n",
       " 'property_type_Condominium',\n",
       " 'property_type_House',\n",
       " 'property_type_Igloo',\n",
       " 'property_type_Island',\n",
       " 'property_type_Resort',\n",
       " 'property_type_Serviced apartment',\n",
       " 'property_type_Timeshare',\n",
       " 'property_type_Townhouse',\n",
       " 'property_type_Villa']"
      ]
     },
     "execution_count": 37,
     "metadata": {},
     "output_type": "execute_result"
    }
   ],
   "source": [
    "from scipy.stats import pointbiserialr\n",
    "from scipy import stats\n",
    "pt_biserial=df_binary.apply(lambda x:stats.pointbiserialr(x, y))\n",
    "df_p=pd.DataFrame(pt_biserial)\n",
    "c1=df_p.reset_index()\n",
    "c2=c1.rename(columns={'index':'col',0:'corr_coeff'})\n",
    "c3=c2.loc[c2['corr_coeff'].apply(lambda x:x[0]>0)]\n",
    "l=c3['col'].tolist()\n",
    "l"
   ]
  },
  {
   "cell_type": "markdown",
   "metadata": {},
   "source": [
    "# Spearman correlation"
   ]
  },
  {
   "cell_type": "code",
   "execution_count": null,
   "metadata": {},
   "outputs": [],
   "source": [
    "n=dff[['host_listings_count', 'accommodates', 'bathrooms', 'bedrooms', 'beds','guests_included', 'extra_people',\n",
    "       'number_of_reviews', 'number_of_reviews_ltm', 'review_scores_rating',\n",
    "       'review_scores_accuracy', 'review_scores_cleanliness',\n",
    "       'review_scores_checkin', 'review_scores_communication',\n",
    "       'review_scores_location', 'review_scores_value',\n",
    "       'reviews_per_month',\n",
    "       'host_response_time','price']]"
   ]
  },
  {
   "cell_type": "code",
   "execution_count": null,
   "metadata": {},
   "outputs": [],
   "source": [
    "plt.figure(figsize=(12,10))\n",
    "corr=n.corr(method='spearman')\n",
    "sns.heatmap(corr,annot=True)\n",
    "plt.show()"
   ]
  },
  {
   "cell_type": "code",
   "execution_count": null,
   "metadata": {},
   "outputs": [],
   "source": [
    "cor_target = corr[\"price\"]\n",
    "#Selecting highly correlated features\n",
    "relevant_features = cor_target[cor_target>0.5]\n",
    "relevant_features"
   ]
  },
  {
   "cell_type": "code",
   "execution_count": null,
   "metadata": {},
   "outputs": [],
   "source": [
    "d1=dff[['accommodates','bathrooms','bedrooms','price']] #combining highly related features with price\n",
    "d2=dff[l]                #Point biserial variables that are related to price\n",
    "d3=pd.concat([sd,cf],axis=1) #continuous variables\n",
    "d4=pd.concat([d1,d2],axis=1)\n",
    "x2=d4.drop(['price'],axis=1)\n",
    "y2=d4['price']"
   ]
  },
  {
   "cell_type": "code",
   "execution_count": null,
   "metadata": {},
   "outputs": [],
   "source": [
    "X_train,X_test,Y_train,Y_test=train_test_split(x2,y2,test_size=0.2,random_state=10)\n",
    "model2=LinearRegression().fit(x2,y2)\n",
    "model2.score(x2,y2)"
   ]
  },
  {
   "cell_type": "code",
   "execution_count": null,
   "metadata": {},
   "outputs": [],
   "source": [
    "train_MSE = np.mean((y2 - model2.predict(x2))**2)\n",
    "test_MSE = np.mean((Y_test - model2.predict(X_test))**2)\n",
    "print(train_MSE)\n",
    "print(test_MSE)"
   ]
  },
  {
   "cell_type": "markdown",
   "metadata": {},
   "source": [
    "# Random Forest"
   ]
  },
  {
   "cell_type": "markdown",
   "metadata": {},
   "source": [
    "# To find top features"
   ]
  },
  {
   "cell_type": "code",
   "execution_count": null,
   "metadata": {},
   "outputs": [],
   "source": [
    "from sklearn.ensemble import RandomForestRegressor\n",
    "modelr=RandomForestRegressor(random_state=1,max_depth=10)\n",
    "modelr.fit(x,y)"
   ]
  },
  {
   "cell_type": "code",
   "execution_count": null,
   "metadata": {},
   "outputs": [],
   "source": [
    "features=x.columns\n",
    "importances=modelr.feature_importances_\n",
    "indices=np.argsort(importances)[-20:]\n",
    "plt.barh(range(len(indices)),importances[indices],color='b',align='center')\n",
    "plt.yticks(range(len(indices)),[features[i] for i in indices])\n",
    "plt.show()"
   ]
  },
  {
   "cell_type": "code",
   "execution_count": null,
   "metadata": {},
   "outputs": [],
   "source": [
    "l2=[features[i] for i in indices]\n",
    "x3=x[l2]\n",
    "y3=y"
   ]
  },
  {
   "cell_type": "code",
   "execution_count": null,
   "metadata": {},
   "outputs": [],
   "source": [
    "X_train,X_test,Y_train,Y_test=train_test_split(x3,y3,test_size=0.2,random_state=10)\n",
    "model3=LinearRegression().fit(x3,y3)\n",
    "model3.score(x3,y3)"
   ]
  },
  {
   "cell_type": "code",
   "execution_count": null,
   "metadata": {},
   "outputs": [],
   "source": [
    "train_MSE = np.mean((y3 - model3.predict(x3))**2)\n",
    "test_MSE = np.mean((Y_test - model3.predict(X_test))**2)\n",
    "print(train_MSE)\n",
    "print(test_MSE)"
   ]
  },
  {
   "cell_type": "markdown",
   "metadata": {},
   "source": [
    "# Analyzing top three features"
   ]
  },
  {
   "cell_type": "code",
   "execution_count": null,
   "metadata": {},
   "outputs": [],
   "source": [
    "plt.figure(figsize=(10,10))\n",
    "plt.subplot(221)\n",
    "plt.scatter(dff['bathrooms'],dff['price'])\n",
    "plt.title('Bathrooms')\n",
    "\n",
    "plt.subplot(222)\n",
    "plt.scatter(dff['cleaning_fee'],dff['price'])\n",
    "plt.title('cleaning_fee')\n",
    "\n",
    "plt.subplot(223)\n",
    "plt.scatter(dff['calculated_host_listings_count_shared_rooms'],dff['price'])\n",
    "plt.title('shared_rooms')\n",
    "\n"
   ]
  }
 ],
 "metadata": {
  "kernelspec": {
   "display_name": "Python 3",
   "language": "python",
   "name": "python3"
  },
  "language_info": {
   "codemirror_mode": {
    "name": "ipython",
    "version": 3
   },
   "file_extension": ".py",
   "mimetype": "text/x-python",
   "name": "python",
   "nbconvert_exporter": "python",
   "pygments_lexer": "ipython3",
   "version": "3.7.3"
  }
 },
 "nbformat": 4,
 "nbformat_minor": 2
}
